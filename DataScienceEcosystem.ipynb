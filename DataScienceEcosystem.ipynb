{
 "cells": [
  {
   "cell_type": "markdown",
   "id": "d14ac56c-bb12-4f28-a9b2-8046137fa566",
   "metadata": {},
   "source": [
    "# Data Science Tools and Ecosystem"
   ]
  },
  {
   "cell_type": "markdown",
   "id": "37a0113c-2441-4aaa-8ca8-25f2fb3f7a97",
   "metadata": {},
   "source": [
    "In this notebook, Data Science Tools and Ecosystem are summarized."
   ]
  },
  {
   "cell_type": "markdown",
   "id": "556cd848-5813-419d-ac24-cd6076af9e6b",
   "metadata": {},
   "source": [
    "Objectives:\n",
    "- Introduce Data Science environment\n",
    "- Practice Jupiter Notebook skills\n",
    "- Refresh and summarize the knowledge from the previous modules"
   ]
  },
  {
   "cell_type": "markdown",
   "id": "62d965e8-8036-4809-b6f1-57e97cf49a65",
   "metadata": {},
   "source": [
    "Some of the popular languages that Data Scientists use are:"
   ]
  },
  {
   "cell_type": "markdown",
   "id": "0c9549cb-d81a-4e14-8359-c92afbc6da6c",
   "metadata": {},
   "source": [
    "1. Python\n",
    "2. R\n",
    "2. SQL\n",
    "3. Scala\n",
    "4. Java Script"
   ]
  },
  {
   "cell_type": "markdown",
   "id": "fd830ad0-a751-4047-899b-98cf788425cb",
   "metadata": {},
   "source": [
    "Some of the commonly used libraries used by Data Scientists include:"
   ]
  },
  {
   "cell_type": "markdown",
   "id": "797514ac-bc50-4f3b-a687-80d9e50b103d",
   "metadata": {},
   "source": [
    "1. pandas\n",
    "2. numpy\n",
    "3. scikit-learn\n",
    "4. ggplot\n",
    "5. caret"
   ]
  },
  {
   "cell_type": "markdown",
   "id": "c6377f0a-6e65-4088-b759-8d1da3915374",
   "metadata": {},
   "source": [
    "|Data Science Tools|\n",
    "|------------------|\n",
    "|Anaconda Navigator|\n",
    "|Jupiter Notebook|\n",
    "|PyCharm Community Edition|\n",
    "|Google Colab|\n",
    "|RStudio|"
   ]
  },
  {
   "cell_type": "markdown",
   "id": "ee56900a-ad16-4188-8513-7cb857f7b758",
   "metadata": {},
   "source": [
    "### Below are a few examples of evaluating arithmetic expressions in Python"
   ]
  },
  {
   "cell_type": "code",
   "execution_count": 2,
   "id": "c6e481ec-77d8-4c17-a6c4-e4cdff186ac1",
   "metadata": {},
   "outputs": [
    {
     "data": {
      "text/plain": [
       "17"
      ]
     },
     "execution_count": 2,
     "metadata": {},
     "output_type": "execute_result"
    }
   ],
   "source": [
    "#This a simple arithmetic expression to mutiply then add integers.\n",
    "\n",
    "(3*4)+5"
   ]
  },
  {
   "cell_type": "code",
   "execution_count": 7,
   "id": "93eb72c1-1f91-4d2a-a681-553cfdefb650",
   "metadata": {},
   "outputs": [
    {
     "name": "stdout",
     "output_type": "stream",
     "text": [
      "3.3333333333333335\n"
     ]
    }
   ],
   "source": [
    "#This will convert 200 minutes to hours by diving by 60\n",
    "minutes = 200\n",
    "hours = minutes / 60\n",
    "\n",
    "print(hours)"
   ]
  },
  {
   "cell_type": "code",
   "execution_count": 8,
   "id": "76f60e9d-fc8c-49e5-9805-6115e3041e33",
   "metadata": {},
   "outputs": [
    {
     "name": "stdout",
     "output_type": "stream",
     "text": [
      "3 hours 20 minutes\n"
     ]
    }
   ],
   "source": [
    "#This will convert 200 minutes to hours and minutes\n",
    "\n",
    "hours = minutes // 60\n",
    "minutes = minutes % 60\n",
    "print(f'{hours} hours {minutes} minutes')"
   ]
  },
  {
   "cell_type": "markdown",
   "id": "ee97ecc5-cd84-4a11-b401-94cdba467030",
   "metadata": {},
   "source": [
    "## Author"
   ]
  },
  {
   "cell_type": "markdown",
   "id": "abfb1442-4c43-4354-b23d-ae62a971a5fe",
   "metadata": {},
   "source": [
    "Roman"
   ]
  },
  {
   "cell_type": "code",
   "execution_count": null,
   "id": "406ff65f-c123-4170-914f-12c71ba5a1e4",
   "metadata": {},
   "outputs": [],
   "source": []
  }
 ],
 "metadata": {
  "kernelspec": {
   "display_name": "Python 3 (ipykernel)",
   "language": "python",
   "name": "python3"
  },
  "language_info": {
   "codemirror_mode": {
    "name": "ipython",
    "version": 3
   },
   "file_extension": ".py",
   "mimetype": "text/x-python",
   "name": "python",
   "nbconvert_exporter": "python",
   "pygments_lexer": "ipython3",
   "version": "3.12.8"
  }
 },
 "nbformat": 4,
 "nbformat_minor": 5
}
